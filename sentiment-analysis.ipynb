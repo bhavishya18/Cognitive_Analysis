{
 "cells": [
  {
   "cell_type": "code",
   "execution_count": 6,
   "metadata": {},
   "outputs": [
    {
     "name": "stdout",
     "output_type": "stream",
     "text": [
      "Requirement already up-to-date: requests in c:\\users\\hp\\anaconda2\\lib\\site-packages (2.23.0)\n",
      "Requirement already satisfied, skipping upgrade: certifi>=2017.4.17 in c:\\users\\hp\\anaconda2\\lib\\site-packages (from requests) (2018.8.24)\n",
      "Requirement already satisfied, skipping upgrade: chardet<4,>=3.0.2 in c:\\users\\hp\\anaconda2\\lib\\site-packages (from requests) (3.0.4)\n",
      "Requirement already satisfied, skipping upgrade: idna<3,>=2.5 in c:\\users\\hp\\anaconda2\\lib\\site-packages (from requests) (2.7)\n",
      "Requirement already satisfied, skipping upgrade: urllib3!=1.25.0,!=1.25.1,<1.26,>=1.21.1 in c:\\users\\hp\\anaconda2\\lib\\site-packages (from requests) (1.23)\n"
     ]
    },
    {
     "name": "stderr",
     "output_type": "stream",
     "text": [
      "DEPRECATION: Python 2.7 will reach the end of its life on January 1st, 2020. Please upgrade your Python as Python 2.7 won't be maintained after that date. A future version of pip will drop support for Python 2.7. More details about Python 2 support in pip, can be found at https://pip.pypa.io/en/latest/development/release-process/#python-2-support\n",
      "WARNING: You are using pip version 19.3.1; however, version 20.1.1 is available.\n",
      "You should consider upgrading via the 'python -m pip install --upgrade pip' command.\n"
     ]
    }
   ],
   "source": [
    "!pip install --upgrade requests"
   ]
  },
  {
   "cell_type": "code",
   "execution_count": 7,
   "metadata": {},
   "outputs": [],
   "source": [
    "import requests\n",
    "from pprint import pprint"
   ]
  },
  {
   "cell_type": "code",
   "execution_count": 8,
   "metadata": {},
   "outputs": [],
   "source": [
    "sub_key = \"6c212291115d45d18b0d631ae9bc8b72\"\n",
    "assert sub_key"
   ]
  },
  {
   "cell_type": "code",
   "execution_count": 9,
   "metadata": {},
   "outputs": [],
   "source": [
    "base_url = \"https://text-analytics-api-bhavi.cognitiveservices.azure.com/\"\n",
    "sent_api_url = base_url + \"/text/analytics/v2.1/sentiment\""
   ]
  },
  {
   "cell_type": "code",
   "execution_count": 10,
   "metadata": {},
   "outputs": [],
   "source": [
    "documents = { 'documents': [ {\"id\": \"1\", \"language\": \"en\", \"text\": \"A long long time ago I can still remember how That music used to make me smile And I knew if I had my chance That I could make those people dance And maybe they'd be happy for a while But February made me shiver With every paper I'd deliver Bad news on the doorstep I couldn't take one more step I can't remember if I cried When I read about his widowed bride Something touched me deep inside The day the music died\"} ] }"
   ]
  },
  {
   "cell_type": "code",
   "execution_count": 11,
   "metadata": {},
   "outputs": [
    {
     "name": "stdout",
     "output_type": "stream",
     "text": [
      "{u'documents': [{u'id': u'1', u'score': 0.15848329663276672}], u'errors': []}\n"
     ]
    }
   ],
   "source": [
    "headers = {\"Ocp-Apim-Subscription-Key\": sub_key}\n",
    "response = requests.post(sent_api_url, headers=headers,json=documents)\n",
    "sentiments = response.json()\n",
    "pprint(sentiments)\n",
    "\n",
    "           "
   ]
  },
  {
   "cell_type": "code",
   "execution_count": 12,
   "metadata": {},
   "outputs": [],
   "source": [
    "# Let's look at individual lines in the song\n",
    "documents = { \"documents\": [ \n",
    "{\"id\": \"1\", \"language\": \"en\", \"text\": \"A long long time ago I can still remember how That music used to make me smile\"}, \n",
    "{\"id\": \"2\", \"language\": \"en\", \"text\" : \"And I knew if I had my chance That I could make those people dance And maybe they'd be happy for a while\"},\n",
    "{\"id\": \"3\", \"language\": \"en\", \"text\" : \"But February made me shiver With every paper I'd deliver\"},\n",
    "{\"id\": \"4\", \"language\": \"en\", \"text\": \"Bad news on the doorstep I couldn't take one more step\"},\n",
    "{\"id\": \"5\", \"language\": \"en\", \"text\": \"I can't remember if I cried When I read about his widowed bride\"},\n",
    "{\"id\": \"6\", \"language\": \"en\", \"text\": \"Something touched me deep inside The day the music died\"} ] }\n"
   ]
  },
  {
   "cell_type": "code",
   "execution_count": 13,
   "metadata": {},
   "outputs": [
    {
     "name": "stdout",
     "output_type": "stream",
     "text": [
      "{u'documents': [{u'id': u'1', u'score': 0.8673838376998901},\n",
      "                {u'id': u'2', u'score': 0.8800123929977417},\n",
      "                {u'id': u'3', u'score': 0.2790694236755371},\n",
      "                {u'id': u'4', u'score': 0.07739582657814026},\n",
      "                {u'id': u'5', u'score': 0.07274278998374939},\n",
      "                {u'id': u'6', u'score': 0.11978799104690552}],\n",
      " u'errors': []}\n"
     ]
    }
   ],
   "source": [
    "headers = {\"Ocp-Apim-Subscription-Key\": sub_key}\n",
    "response = requests.post(sent_api_url, headers=headers,json=documents)\n",
    "sentiments = response.json()\n",
    "pprint(sentiments)"
   ]
  },
  {
   "cell_type": "code",
   "execution_count": 14,
   "metadata": {},
   "outputs": [
    {
     "name": "stdout",
     "output_type": "stream",
     "text": [
      "{u'documents': [{u'detectedLanguages': [{u'iso6391Name': u'en',\n",
      "                                         u'name': u'English',\n",
      "                                         u'score': 1.0}],\n",
      "                 u'id': u'1'},\n",
      "                {u'detectedLanguages': [{u'iso6391Name': u'es',\n",
      "                                         u'name': u'Spanish',\n",
      "                                         u'score': 1.0}],\n",
      "                 u'id': u'2'},\n",
      "                {u'detectedLanguages': [{u'iso6391Name': u'fr',\n",
      "                                         u'name': u'French',\n",
      "                                         u'score': 1.0}],\n",
      "                 u'id': u'3'}],\n",
      " u'errors': []}\n"
     ]
    }
   ],
   "source": [
    "documents = { \"documents\": [ \n",
    "{\"id\": \"1\", \"text\": \"A long long time ago I can still remember how That music used to make me smile\"}, \n",
    "{\"id\": \"2\", \"text\": \"Mi gusto el futbol!\"},    \n",
    "{\"id\": \"3\", \"text\": \"Parlez vous francais?\"} ]}\n",
    "\n",
    "lang_api = base_url + \"/text/analytics/v2.1/languages\"\n",
    "\n",
    "response = requests.post(lang_api, headers=headers,json=documents)\n",
    "languages = response.json()\n",
    "pprint(languages)\n"
   ]
  },
  {
   "cell_type": "code",
   "execution_count": 15,
   "metadata": {},
   "outputs": [
    {
     "name": "stdout",
     "output_type": "stream",
     "text": [
      "{u'documents': [{u'entities': [{u'matches': [{u'entityTypeScore': 0.8835815787315369,\n",
      "                                              u'length': 5,\n",
      "                                              u'offset': 26,\n",
      "                                              u'text': u'Paris'}],\n",
      "                                u'name': u'Paris',\n",
      "                                u'type': u'Location'}],\n",
      "                 u'id': u'1'},\n",
      "                {u'entities': [{u'bingId': u'57ab82fc-d6cf-f153-0128-195bac9a762f',\n",
      "                                u'matches': [{u'entityTypeScore': 0.8,\n",
      "                                              u'length': 10,\n",
      "                                              u'offset': 20,\n",
      "                                              u'text': u'The hobbit',\n",
      "                                              u'wikipediaScore': 0.184788765942411}],\n",
      "                                u'name': u'The Hobbit',\n",
      "                                u'type': u'Other',\n",
      "                                u'wikipediaId': u'The Hobbit',\n",
      "                                u'wikipediaLanguage': u'en',\n",
      "                                u'wikipediaUrl': u'https://en.wikipedia.org/wiki/The_Hobbit'},\n",
      "                               {u'bingId': u'44637744-0e9c-9544-baab-46717ba1609d',\n",
      "                                u'matches': [{u'entityTypeScore': 0.8,\n",
      "                                              u'length': 14,\n",
      "                                              u'offset': 35,\n",
      "                                              u'text': u'J.R.R. Tolkien',\n",
      "                                              u'wikipediaScore': 0.8358480079026005}],\n",
      "                                u'name': u'J. R. R. Tolkien',\n",
      "                                u'type': u'Person',\n",
      "                                u'wikipediaId': u'J. R. R. Tolkien',\n",
      "                                u'wikipediaLanguage': u'en',\n",
      "                                u'wikipediaUrl': u'https://en.wikipedia.org/wiki/J._R._R._Tolkien'},\n",
      "                               {u'matches': [{u'entityTypeScore': 0.8515167832374573,\n",
      "                                              u'length': 14,\n",
      "                                              u'offset': 35,\n",
      "                                              u'text': u'J.R.R. Tolkien'}],\n",
      "                                u'name': u'J.R.R. Tolkien',\n",
      "                                u'type': u'Organization'}],\n",
      "                 u'id': u'2'},\n",
      "                {u'entities': [{u'bingId': u'368d2897-4599-c730-bca8-c8353fc543a1',\n",
      "                                u'matches': [{u'entityTypeScore': 0.8,\n",
      "                                              u'length': 21,\n",
      "                                              u'offset': 24,\n",
      "                                              u'text': u'the Statue of Liberty',\n",
      "                                              u'wikipediaScore': 0.7576654234095244},\n",
      "                                             {u'entityTypeScore': 0.7879632711410522,\n",
      "                                              u'length': 17,\n",
      "                                              u'offset': 28,\n",
      "                                              u'text': u'Statue of Liberty'}],\n",
      "                                u'name': u'Statue of Liberty',\n",
      "                                u'type': u'Location',\n",
      "                                u'wikipediaId': u'Statue of Liberty',\n",
      "                                u'wikipediaLanguage': u'en',\n",
      "                                u'wikipediaUrl': u'https://en.wikipedia.org/wiki/Statue_of_Liberty'},\n",
      "                               {u'bingId': u'60d5dc2b-c915-460b-b722-c9e3485499ca',\n",
      "                                u'matches': [{u'entityTypeScore': 0.8890434503555298,\n",
      "                                              u'length': 13,\n",
      "                                              u'offset': 49,\n",
      "                                              u'text': u'New York city',\n",
      "                                              u'wikipediaScore': 0.1418688890309303}],\n",
      "                                u'name': u'New York City',\n",
      "                                u'type': u'Location',\n",
      "                                u'wikipediaId': u'New York City',\n",
      "                                u'wikipediaLanguage': u'en',\n",
      "                                u'wikipediaUrl': u'https://en.wikipedia.org/wiki/New_York_City'}],\n",
      "                 u'id': u'3'}],\n",
      " u'errors': []}\n"
     ]
    }
   ],
   "source": [
    "documents = { \"documents\": [ \n",
    "{\"id\": \"1\", \"text\": \"I would like to travel to Paris.\"}, \n",
    "{\"id\": \"2\", \"text\": \"My favorite book is \"\"The hobbit\"\", by J.R.R. Tolkien.\"},    \n",
    "{\"id\": \"3\", \"text\": \"Would you like to visit the Statue of Liberty in New York city?\"} ]}\n",
    "\n",
    "entities_api = base_url + \"/text/analytics/v2.1/entities\"\n",
    "\n",
    "response = requests.post(entities_api, headers=headers,json=documents)\n",
    "languages = response.json()\n",
    "pprint(languages)\n"
   ]
  }
 ],
 "metadata": {
  "kernelspec": {
   "display_name": "Python 2",
   "language": "python",
   "name": "python2"
  },
  "language_info": {
   "codemirror_mode": {
    "name": "ipython",
    "version": 2
   },
   "file_extension": ".py",
   "mimetype": "text/x-python",
   "name": "python",
   "nbconvert_exporter": "python",
   "pygments_lexer": "ipython2",
   "version": "2.7.15"
  }
 },
 "nbformat": 4,
 "nbformat_minor": 2
}
